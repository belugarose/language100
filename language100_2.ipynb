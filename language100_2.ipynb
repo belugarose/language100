{
  "nbformat": 4,
  "nbformat_minor": 0,
  "metadata": {
    "colab": {
      "name": "language100_2.ipynb",
      "provenance": [],
      "collapsed_sections": [],
      "authorship_tag": "ABX9TyOPG8TM1J19pl/ZfgbCxysT",
      "include_colab_link": true
    },
    "kernelspec": {
      "name": "python3",
      "display_name": "Python 3"
    }
  },
  "cells": [
    {
      "cell_type": "markdown",
      "metadata": {
        "id": "view-in-github",
        "colab_type": "text"
      },
      "source": [
        "<a href=\"https://colab.research.google.com/github/belugarose/language100/blob/master/language100_2.ipynb\" target=\"_parent\"><img src=\"https://colab.research.google.com/assets/colab-badge.svg\" alt=\"Open In Colab\"/></a>"
      ]
    },
    {
      "cell_type": "markdown",
      "metadata": {
        "id": "4UvpD0atSwRA",
        "colab_type": "text"
      },
      "source": [
        ""
      ]
    },
    {
      "cell_type": "markdown",
      "metadata": {
        "id": "1iyT6dFdTcVr",
        "colab_type": "text"
      },
      "source": [
        "### 行数のカウント\n",
        "行数をカウントせよ．確認にはwcコマンドを用いよ．"
      ]
    },
    {
      "cell_type": "code",
      "metadata": {
        "id": "42I8KkwUT_v5",
        "colab_type": "code",
        "outputId": "60ab0b0d-4fc7-4162-b96f-83a156146d3e",
        "colab": {
          "base_uri": "https://localhost:8080/",
          "height": 34
        }
      },
      "source": [
        "\n",
        "!wc -l ./data_for_test/popular-names.txt"
      ],
      "execution_count": 0,
      "outputs": [
        {
          "output_type": "stream",
          "text": [
            "2780 ./data_for_test/popular-names.txt\n"
          ],
          "name": "stdout"
        }
      ]
    },
    {
      "cell_type": "code",
      "metadata": {
        "id": "h92P7JdbUlgy",
        "colab_type": "code",
        "outputId": "347f6778-506c-4aaa-c250-5be32441d54d",
        "colab": {
          "base_uri": "https://localhost:8080/",
          "height": 34
        }
      },
      "source": [
        "!find ./data_for_test/ -name \"*.txt\" | wc -l"
      ],
      "execution_count": 0,
      "outputs": [
        {
          "output_type": "stream",
          "text": [
            "1\n"
          ],
          "name": "stdout"
        }
      ]
    },
    {
      "cell_type": "markdown",
      "metadata": {
        "id": "wvTkHdXhVJja",
        "colab_type": "text"
      },
      "source": [
        "### タブをスペースに置換\n",
        "タブ1文字につきスペース1文字に置換せよ．確認にはsedコマンド，trコマンド，もしくはexpandコマンドを用いよ．"
      ]
    },
    {
      "cell_type": "code",
      "metadata": {
        "id": "lcmzFrhyVTs0",
        "colab_type": "code",
        "outputId": "1fb00471-70da-46b3-8e84-a41f9861f93f",
        "colab": {
          "base_uri": "https://localhost:8080/",
          "height": 185
        }
      },
      "source": [
        "!sed -e 's/[[:cntrl:]]/ /g' ./data_for_test/popular-names.txt >> ./data_for_test/ans11.txt  # 参考"
      ],
      "execution_count": 0,
      "outputs": [
        {
          "output_type": "stream",
          "text": [
            "Mary F 7065 1880\n",
            "Anna F 2604 1880\n",
            "Emma F 2003 1880\n",
            "Elizabeth F 1939 1880\n",
            "Minnie F 1746 1880\n",
            "Mary\tF\t7065\t1880\n",
            "Anna\tF\t2604\t1880\n",
            "Emma\tF\t2003\t1880\n",
            "Elizabeth\tF\t1939\t1880\n",
            "Minnie\tF\t1746\t1880\n"
          ],
          "name": "stdout"
        }
      ]
    },
    {
      "cell_type": "markdown",
      "metadata": {
        "id": "mx6fus6Ta4_M",
        "colab_type": "text"
      },
      "source": [
        "### 1列目をcol1.txtに，2列目をcol2.txtに保存\n",
        "各行の1列目だけを抜き出したものをcol1.txtに，2列目だけを抜き出したものをcol2.txtとしてファイルに保存せよ．確認にはcutコマンドを用いよ．"
      ]
    },
    {
      "cell_type": "code",
      "metadata": {
        "id": "aNidiNekbD2i",
        "colab_type": "code",
        "colab": {}
      },
      "source": [
        "!cut -f 1 popular-names.txt > col1.txt\n",
        "!cut -f 2 popular-names.txt > col2.txt"
      ],
      "execution_count": 0,
      "outputs": []
    },
    {
      "cell_type": "markdown",
      "metadata": {
        "id": "smL4-1Nlt-Yc",
        "colab_type": "text"
      },
      "source": [
        "### col1.txtとcol2.txtをマージ\n",
        "12で作ったcol1.txtとcol2.txtを結合し，元のファイルの1列目と2列目をタブ区切りで並べたテキストファイルを作成せよ．確認にはpasteコマンドを用いよ．"
      ]
    },
    {
      "cell_type": "code",
      "metadata": {
        "id": "AIpzNU6tuOxo",
        "colab_type": "code",
        "colab": {}
      },
      "source": [
        "!paste col1.txt col2.txt > an14.txt\n",
        "!cat an14.txt | head -5"
      ],
      "execution_count": 0,
      "outputs": []
    },
    {
      "cell_type": "markdown",
      "metadata": {
        "id": "hs5XZPDjwHhR",
        "colab_type": "text"
      },
      "source": [
        "### 先頭からN行を出力\n",
        "自然数Nをコマンドライン引数などの手段で受け取り，入力のうち先頭のN行だけを表示せよ．確認にはheadコマンドを用いよ"
      ]
    },
    {
      "cell_type": "code",
      "metadata": {
        "id": "bSRbIxcXwOQw",
        "colab_type": "code",
        "colab": {}
      },
      "source": [
        "!head -$1 popular-names.txt"
      ],
      "execution_count": 0,
      "outputs": []
    },
    {
      "cell_type": "markdown",
      "metadata": {
        "id": "2hsC-0Dcybk-",
        "colab_type": "text"
      },
      "source": [
        "### 末尾のN行を出力\n",
        "自然数Nをコマンドライン引数などの手段で受け取り，入力のうち末尾のN行だけを表示せよ．確認にはtailコマンドを用いよ．"
      ]
    },
    {
      "cell_type": "code",
      "metadata": {
        "id": "Zd9HOy3Wyh_B",
        "colab_type": "code",
        "colab": {
          "base_uri": "https://localhost:8080/",
          "height": 151
        },
        "outputId": "685b5152-ac8c-4ffc-fd68-1b96d2940913"
      },
      "source": [
        "!tail -$1 popular-names.txt"
      ],
      "execution_count": 28,
      "outputs": [
        {
          "output_type": "stream",
          "text": [
            "William\tM\t14516\t2018\n",
            "James\tM\t13525\t2018\n",
            "Oliver\tM\t13389\t2018\n",
            "Benjamin\tM\t13381\t2018\n",
            "Elijah\tM\t12886\t2018\n",
            "Lucas\tM\t12585\t2018\n",
            "Mason\tM\t12435\t2018\n",
            "Logan\tM\t12352\t2018\n"
          ],
          "name": "stdout"
        }
      ]
    },
    {
      "cell_type": "markdown",
      "metadata": {
        "id": "AiEvjqeSzA7o",
        "colab_type": "text"
      },
      "source": [
        "### ファイルをN分割する\n",
        "自然数Nをコマンドライン引数などの手段で受け取り，入力のファイルを行単位でN分割せよ．同様の処理をsplitコマンドで実現せよ．"
      ]
    },
    {
      "cell_type": "code",
      "metadata": {
        "id": "6Brq9iOIzFo8",
        "colab_type": "code",
        "colab": {}
      },
      "source": [
        "!split -l 500 -d popular-names.txt NAME-"
      ],
      "execution_count": 0,
      "outputs": []
    },
    {
      "cell_type": "markdown",
      "metadata": {
        "id": "Pz1ZtuQF5VQR",
        "colab_type": "text"
      },
      "source": [
        "### 1列目の文字列の異なり\n",
        "1列目の文字列の種類（異なる文字列の集合）を求めよ．確認にはcut, sort, uniqコマンドを用いよ．"
      ]
    },
    {
      "cell_type": "code",
      "metadata": {
        "id": "53Dv7cQo5aLp",
        "colab_type": "code",
        "colab": {}
      },
      "source": [
        "!cut -f1 -d$'\\t' popular-names.txt | LANG=C sort | uniq　 # $'\\t'がタブになる"
      ],
      "execution_count": 0,
      "outputs": []
    },
    {
      "cell_type": "markdown",
      "metadata": {
        "id": "b4jRnLIF6Mzg",
        "colab_type": "text"
      },
      "source": [
        "### 各行を3コラム目の数値の降順にソート\n",
        "各行を3コラム目の数値の逆順で整列せよ（注意: 各行の内容は変更せずに並び替えよ）．確認にはsortコマンドを用いよ（この問題はコマンドで実行した時の結果と合わなくてもよい）．"
      ]
    },
    {
      "cell_type": "code",
      "metadata": {
        "id": "0TTFtwyN6Ri3",
        "colab_type": "code",
        "colab": {}
      },
      "source": [
        "!sort -k 3nr popular-names.txt  # nr 数値として逆順で並び替える"
      ],
      "execution_count": 0,
      "outputs": []
    },
    {
      "cell_type": "markdown",
      "metadata": {
        "id": "Q3UkK8dv6250",
        "colab_type": "text"
      },
      "source": [
        "### 各行の1コラム目の文字列の出現頻度を求め，出現頻度の高い順に並べる"
      ]
    },
    {
      "cell_type": "code",
      "metadata": {
        "id": "b76MeeIT69AA",
        "colab_type": "code",
        "colab": {}
      },
      "source": [
        "!cut -f1 -d$'\\t' popular-names.txt | LANG=C sort |  uniq -c | sort -k 1nr"
      ],
      "execution_count": 0,
      "outputs": []
    }
  ]
}