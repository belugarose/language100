{
  "nbformat": 4,
  "nbformat_minor": 0,
  "metadata": {
    "colab": {
      "name": "language100_1.ipynb",
      "provenance": [],
      "collapsed_sections": [],
      "authorship_tag": "ABX9TyMsaxbA0CfAZeRdFty9WOpN",
      "include_colab_link": true
    },
    "kernelspec": {
      "name": "python3",
      "display_name": "Python 3"
    }
  },
  "cells": [
    {
      "cell_type": "markdown",
      "metadata": {
        "id": "view-in-github",
        "colab_type": "text"
      },
      "source": [
        "<a href=\"https://colab.research.google.com/github/belugarose/language100/blob/master/language100_1.ipynb\" target=\"_parent\"><img src=\"https://colab.research.google.com/assets/colab-badge.svg\" alt=\"Open In Colab\"/></a>"
      ]
    },
    {
      "cell_type": "markdown",
      "metadata": {
        "id": "7876NoQ2DTpp",
        "colab_type": "text"
      },
      "source": [
        "### 文字列の逆順\n",
        "文字列”stressed”の文字を逆に（末尾から先頭に向かって）並べた文字列を得よ．"
      ]
    },
    {
      "cell_type": "markdown",
      "metadata": {
        "id": "-7P3yetSDTB5",
        "colab_type": "text"
      },
      "source": [
        ""
      ]
    },
    {
      "cell_type": "code",
      "metadata": {
        "id": "3SNBMTYSDfvi",
        "colab_type": "code",
        "outputId": "191efa35-9a6d-4b3f-c14b-2e82a2e64658",
        "colab": {
          "base_uri": "https://localhost:8080/",
          "height": 34
        }
      },
      "source": [
        "'stressed'[::-1]"
      ],
      "execution_count": 0,
      "outputs": [
        {
          "output_type": "execute_result",
          "data": {
            "text/plain": [
              "'desserts'"
            ]
          },
          "metadata": {
            "tags": []
          },
          "execution_count": 2
        }
      ]
    },
    {
      "cell_type": "markdown",
      "metadata": {
        "id": "tOJMjo-vDp1U",
        "colab_type": "text"
      },
      "source": [
        "### 「パタトクカシーー」\n",
        "「パタトクカシーー」という文字列の1,3,5,7文字目を取り出して連結した文字列を得よ．"
      ]
    },
    {
      "cell_type": "code",
      "metadata": {
        "id": "n4rk70s0D1oc",
        "colab_type": "code",
        "outputId": "914a5f8e-4282-44e2-b0c8-947f440034d2",
        "colab": {
          "base_uri": "https://localhost:8080/",
          "height": 34
        }
      },
      "source": [
        "\"パタトクカシーー\"[::2]"
      ],
      "execution_count": 0,
      "outputs": [
        {
          "output_type": "execute_result",
          "data": {
            "text/plain": [
              "'パトカー'"
            ]
          },
          "metadata": {
            "tags": []
          },
          "execution_count": 3
        }
      ]
    },
    {
      "cell_type": "markdown",
      "metadata": {
        "id": "ROzhTPV7EHin",
        "colab_type": "text"
      },
      "source": [
        "###「パトカー」＋「タクシー」＝「パタトクカシーー」\n",
        "「パトカー」＋「タクシー」の文字を先頭から交互に連結して文字列「パタトクカシーー」を得よ．"
      ]
    },
    {
      "cell_type": "code",
      "metadata": {
        "id": "gFpFCMYpERSH",
        "colab_type": "code",
        "outputId": "361c2b41-3faa-434c-d7ed-056248e573ac",
        "colab": {
          "base_uri": "https://localhost:8080/",
          "height": 34
        }
      },
      "source": [
        "s1='パトカー'\n",
        "s2='タクシー'\n",
        "''.join([a +b for a, b in zip(s1, s2)])"
      ],
      "execution_count": 4,
      "outputs": [
        {
          "output_type": "execute_result",
          "data": {
            "text/plain": [
              "'パタトクカシーー'"
            ]
          },
          "metadata": {
            "tags": []
          },
          "execution_count": 4
        }
      ]
    },
    {
      "cell_type": "markdown",
      "metadata": {
        "id": "ROG4I4Fql-r8",
        "colab_type": "text"
      },
      "source": [
        "### 円周率\n",
        "“Now I need a drink, alcoholic of course, after the heavy lectures involving quantum mechanics.”という文を単語に分解し，各単語の（アルファベットの）文字数を先頭から出現順に並べたリストを作成せよ．"
      ]
    },
    {
      "cell_type": "code",
      "metadata": {
        "id": "aiF_5JBBmF0j",
        "colab_type": "code",
        "colab": {
          "base_uri": "https://localhost:8080/",
          "height": 34
        },
        "outputId": "c4b21e30-e518-44dc-8e58-c8b1b5200d11"
      },
      "source": [
        "s=\"Now I need a drink, alcoholic of course, after the heavy lectures involving quantum mechanics.\"\n",
        "s=s.replace(',','').replace('.','') # relaceの使い方\n",
        "[len(word) for word in s.split()]"
      ],
      "execution_count": 18,
      "outputs": [
        {
          "output_type": "execute_result",
          "data": {
            "text/plain": [
              "[3, 1, 4, 1, 5, 9, 2, 6, 5, 3, 5, 8, 9, 7, 9]"
            ]
          },
          "metadata": {
            "tags": []
          },
          "execution_count": 18
        }
      ]
    },
    {
      "cell_type": "markdown",
      "metadata": {
        "id": "OTPxAQ7qoKaq",
        "colab_type": "text"
      },
      "source": [
        "### 元素記号\n",
        "“Hi He Lied Because Boron Could Not Oxidize Fluorine. New Nations Might Also Sign Peace Security Clause. Arthur King Can.”という文を単語に分解し，1, 5, 6, 7, 8, 9, 15, 16, 19番目の単語は先頭の1文字，それ以外の単語は先頭に2文字を取り出し，取り出した文字列から単語の位置（先頭から何番目の単語か）への連想配列（辞書型もしくはマップ型）を作成せよ．"
      ]
    },
    {
      "cell_type": "code",
      "metadata": {
        "id": "kga0Z6XIoaLB",
        "colab_type": "code",
        "colab": {
          "base_uri": "https://localhost:8080/",
          "height": 54
        },
        "outputId": "95989a4e-bf7a-4fd7-a118-5d3c127be7b0"
      },
      "source": [
        "s=\"Hi He Lied Because Boron Could Not Oxidize Fluorine. New Nations Might Also Sign Peace Security Clause. Arthur King Can.\"\n",
        "nset={1,5,6,7,8,9,15,16,19}\n",
        "s=s.replace(',','').replace('.','')\n",
        "ldict={}\n",
        "for i, w in enumerate(s.split()):\n",
        "  if i+1 in nset:\n",
        "    ldict[w[:2]]=i+1\n",
        "  else:\n",
        "    ldict[w[0]]=i+1 # w[:1]の書き方もある\n",
        "print(ldict)"
      ],
      "execution_count": 27,
      "outputs": [
        {
          "output_type": "stream",
          "text": [
            "{'Hi': 1, 'H': 2, 'L': 3, 'B': 4, 'Bo': 5, 'Co': 6, 'No': 7, 'Ox': 8, 'Fl': 9, 'N': 11, 'M': 12, 'A': 18, 'S': 14, 'Pe': 15, 'Se': 16, 'C': 20, 'Ki': 19}\n"
          ],
          "name": "stdout"
        }
      ]
    },
    {
      "cell_type": "markdown",
      "metadata": {
        "id": "X8f9DwkgslT8",
        "colab_type": "text"
      },
      "source": [
        "### n-gram\n",
        "与えられたシーケンス（文字列やリストなど）からn-gramを作る関数を作成せよ．この関数を用い，”I am an NLPer”という文から単語bi-gram，文字bi-gramを得よ．\n",
        "\n",
        "余談：n-gramとは？\n",
        "任意の文字列や文書を連続したｎ個の文字で分割するテキスト分割方法。"
      ]
    },
    {
      "cell_type": "code",
      "metadata": {
        "id": "F6XStNAkss4V",
        "colab_type": "code",
        "colab": {
          "base_uri": "https://localhost:8080/",
          "height": 50
        },
        "outputId": "372a1469-56e5-432b-da0d-f538c311232b"
      },
      "source": [
        "def ngram(s, n,):\n",
        "    result= [s[i:i+n] for i in range(len(s)-n+1)]\n",
        "    return result\n",
        "                  \n",
        "print(ngram('I am an NLPer', 2))\n",
        "print(ngram('I am an NLPer'.split(), 2))\n",
        "  "
      ],
      "execution_count": 53,
      "outputs": [
        {
          "output_type": "stream",
          "text": [
            "['I ', ' a', 'am', 'm ', ' a', 'an', 'n ', ' N', 'NL', 'LP', 'Pe', 'er']\n",
            "[['I', 'am'], ['am', 'an'], ['an', 'NLPer']]\n"
          ],
          "name": "stdout"
        }
      ]
    },
    {
      "cell_type": "markdown",
      "metadata": {
        "id": "dGT5wukzzZCz",
        "colab_type": "text"
      },
      "source": [
        "### 集合\n",
        "“paraparaparadise”と”paragraph”に含まれる文字bi-gramの集合を，それぞれ, XとYとして求め，XとYの和集合，積集合，差集合を求めよ．さらに，’se’というbi-gramがXおよびYに含まれるかどうかを調べよ．"
      ]
    },
    {
      "cell_type": "code",
      "metadata": {
        "id": "MJ2Gu2VRzbdJ",
        "colab_type": "code",
        "colab": {
          "base_uri": "https://localhost:8080/",
          "height": 101
        },
        "outputId": "d6ba7850-2051-45eb-8fbf-10f8c48dff69"
      },
      "source": [
        "s1=\"paraparaparadise\"\n",
        "s2=\"paragraph\"\n",
        "\n",
        "def bigram(s):\n",
        "  return set([s[i:i+2] for i in range(len(s)-1)])\n",
        "X=bigram(s1)\n",
        "Y=bigram(s2)\n",
        "# 和集合と積集合の求め方\n",
        "print(X | Y)\n",
        "print(X & Y)\n",
        "print(X - Y)\n",
        "\n",
        "print('se' in X)\n",
        "print('se' in Y)"
      ],
      "execution_count": 59,
      "outputs": [
        {
          "output_type": "stream",
          "text": [
            "{'ar', 'is', 'pa', 'ap', 'ad', 'di', 'gr', 'ag', 'ph', 'ra', 'se'}\n",
            "{'pa', 'ap', 'ar', 'ra'}\n",
            "{'ad', 'di', 'is', 'se'}\n",
            "True\n",
            "False\n"
          ],
          "name": "stdout"
        }
      ]
    },
    {
      "cell_type": "markdown",
      "metadata": {
        "id": "0LcbP03h1KWT",
        "colab_type": "text"
      },
      "source": [
        "### テンプレートによる文生成\n",
        "引数x, y, zを受け取り「x時のyはz」という文字列を返す関数を実装せよ．さらに，x=12, y=”気温”, z=22.4として，実行結果を確認せよ．"
      ]
    },
    {
      "cell_type": "code",
      "metadata": {
        "id": "rXeLE4Fh1nx6",
        "colab_type": "code",
        "colab": {
          "base_uri": "https://localhost:8080/",
          "height": 34
        },
        "outputId": "a940039f-6aea-4fcf-d776-da1844087ff9"
      },
      "source": [
        "def template(x, y, z):\n",
        "  return('{}時の{}は{}'.format(x, y, z))\n",
        "print(template(12, '気温', 22.4))"
      ],
      "execution_count": 60,
      "outputs": [
        {
          "output_type": "stream",
          "text": [
            "12時の気温は22.4\n"
          ],
          "name": "stdout"
        }
      ]
    },
    {
      "cell_type": "code",
      "metadata": {
        "id": "c27VuqkQ2JIk",
        "colab_type": "code",
        "colab": {}
      },
      "source": [
        ""
      ],
      "execution_count": 0,
      "outputs": []
    },
    {
      "cell_type": "markdown",
      "metadata": {
        "id": "Dy-ZioWA2RVr",
        "colab_type": "text"
      },
      "source": [
        "### 暗号文\n",
        "与えられた文字列の各文字を，以下の仕様で変換する関数cipherを実装せよ．\n",
        "\n",
        "英小文字ならば(219 - 文字コード)の文字に置換\n",
        "その他の文字はそのまま出力\n",
        "この関数を用い，英語のメッセージを暗号化・復号化せよ．"
      ]
    },
    {
      "cell_type": "code",
      "metadata": {
        "id": "XqfDOUfv2XNL",
        "colab_type": "code",
        "colab": {
          "base_uri": "https://localhost:8080/",
          "height": 34
        },
        "outputId": "5570860b-d2a9-4909-9641-5efe74f1aade"
      },
      "source": [
        "def cipher(s):\n",
        "  news=''\n",
        "  for l in s:\n",
        "    if l.islower():\n",
        "      news += chr(219+ord(l))\n",
        "    else:\n",
        "      news += l\n",
        "  return news\n",
        "\n",
        "print(cipher('I am a pen'))"
      ],
      "execution_count": 79,
      "outputs": [
        {
          "output_type": "stream",
          "text": [
            "I ļň ļ ŋŀŉ\n"
          ],
          "name": "stdout"
        }
      ]
    },
    {
      "cell_type": "markdown",
      "metadata": {
        "id": "W4WtE4No5bsF",
        "colab_type": "text"
      },
      "source": [
        "### Typoglycemia\n",
        "スペースで区切られた単語列に対して，各単語の先頭と末尾の文字は残し，それ以外の文字の順序をランダムに並び替えるプログラムを作成せよ．ただし，長さが４以下の単語は並び替えないこととする．適当な英語の文（例えば”I couldn’t believe that I could actually understand what I was reading : the phenomenal power of the human mind .”）を与え，その実行結果を確認せよ．"
      ]
    },
    {
      "cell_type": "markdown",
      "metadata": {
        "id": "YK-xfq075Sts",
        "colab_type": "text"
      },
      "source": [
        ""
      ]
    },
    {
      "cell_type": "code",
      "metadata": {
        "id": "Qz-BClvn5lRV",
        "colab_type": "code",
        "colab": {
          "base_uri": "https://localhost:8080/",
          "height": 54
        },
        "outputId": "33980025-1742-4d12-f749-f73d241766e0"
      },
      "source": [
        "import random\n",
        "s=\"I couldn’t believe that I could actually understand what I was reading : the phenomenal power of the human mind\"\n",
        "def typoglycemia(s):\n",
        "  r = []\n",
        "  for w in s.split():\n",
        "    if len(w) < 5:\n",
        "      r.append(w)\n",
        "      continue\n",
        "    nw = w[0] + ''.join(random.sample(w[1:-1], k=len(w)-2))+ w[-1]  # randomモジュール面白い!!\n",
        "    r.append(nw)\n",
        "  return r\n",
        "\n",
        "print(typoglycemia(s))"
      ],
      "execution_count": 102,
      "outputs": [
        {
          "output_type": "stream",
          "text": [
            "['I', 'clond’ut', 'beelive', 'that', 'I', 'cloud', 'aacltuly', 'uasrntendd', 'what', 'I', 'was', 'randieg', ':', 'the', 'pemnenohal', 'poewr', 'of', 'the', 'hmaun', 'mind']\n"
          ],
          "name": "stdout"
        }
      ]
    }
  ]
}